{
 "cells": [
  {
   "cell_type": "code",
   "execution_count": null,
   "metadata": {},
   "outputs": [],
   "source": [
    "# "
   ]
  },
  {
   "cell_type": "code",
   "execution_count": 3,
   "metadata": {},
   "outputs": [],
   "source": [
    "import plotly \n",
    "plotly.tools.set_credentials_file(username='bertbakker', api_key='2RxjGJhikkg7P8iaey2P')"
   ]
  },
  {
   "cell_type": "code",
   "execution_count": 4,
   "metadata": {},
   "outputs": [
    {
     "name": "stdout",
     "output_type": "stream",
     "text": [
      "High five! You successfully sent some data to your account on plotly. View your plot in your browser at https://plot.ly/~bertbakker/0 or inside your plot.ly account where it is named 'life-expectancy-per-GDP-2007'\n"
     ]
    },
    {
     "data": {
      "text/html": [
       "<iframe id=\"igraph\" scrolling=\"no\" style=\"border:none;\" seamless=\"seamless\" src=\"https://plot.ly/~bertbakker/0.embed\" height=\"525px\" width=\"100%\"></iframe>"
      ],
      "text/plain": [
       "<chart_studio.tools.PlotlyDisplay object>"
      ]
     },
     "execution_count": 4,
     "metadata": {},
     "output_type": "execute_result"
    }
   ],
   "source": [
    "import pandas as pd\n",
    "import plotly.plotly as py\n",
    "import plotly.graph_objs as go\n",
    "\n",
    "df = pd.read_csv('https://raw.githubusercontent.com/yankev/test/master/life-expectancy-per-GDP-2007.csv')\n",
    "\n",
    "americas = df[(df.continent=='Americas')]\n",
    "europe = df[(df.continent=='Europe')]\n",
    "\n",
    "trace_comp0 = go.Scatter(\n",
    "    x=americas.gdp_percap,\n",
    "    y=americas.life_exp,\n",
    "    mode='markers',\n",
    "    marker=dict(size=12,\n",
    "                line=dict(width=1),\n",
    "                color=\"navy\"\n",
    "               ),\n",
    "    name='Americas',\n",
    "    text=americas.country,\n",
    "    )\n",
    "\n",
    "trace_comp1 = go.Scatter(\n",
    "    x=europe.gdp_percap,\n",
    "    y=europe.life_exp,\n",
    "    mode='markers',\n",
    "    marker=dict(size=12,\n",
    "                line=dict(width=1),\n",
    "                color=\"red\"\n",
    "               ),\n",
    "    name='Europe',\n",
    "    text=europe.country,\n",
    "        )\n",
    "\n",
    "data_comp = [trace_comp0, trace_comp1]\n",
    "layout_comp = go.Layout(\n",
    "    title='Life Expectancy v. Per Capita GDP, 2007',\n",
    "    hovermode='closest',\n",
    "    xaxis=dict(\n",
    "        title='GDP per capita (2000 dollars)',\n",
    "        ticklen=5,\n",
    "        zeroline=False,\n",
    "        gridwidth=2,\n",
    "    ),\n",
    "    yaxis=dict(\n",
    "        title='Life Expectancy (years)',\n",
    "        ticklen=5,\n",
    "        gridwidth=2,\n",
    "    ),\n",
    ")\n",
    "fig_comp = go.Figure(data=data_comp, layout=layout_comp)\n",
    "py.iplot(fig_comp, filename='life-expectancy-per-GDP-2007')"
   ]
  },
  {
   "cell_type": "code",
   "execution_count": 5,
   "metadata": {},
   "outputs": [
    {
     "data": {
      "text/plain": [
       "<bound method NDFrame.describe of     Unnamed: 0 continent                                            country  \\\n",
       "0            0  Americas       Country: Argentina<br>Population: 40301927.0   \n",
       "1            1  Americas          Country: Bolivia<br>Population: 9119152.0   \n",
       "2            2  Americas         Country: Brazil<br>Population: 190010647.0   \n",
       "3            3  Americas          Country: Canada<br>Population: 33390141.0   \n",
       "4            4  Americas           Country: Chile<br>Population: 16284741.0   \n",
       "5            5  Americas        Country: Colombia<br>Population: 44227550.0   \n",
       "6            6  Americas       Country: Costa Rica<br>Population: 4133884.0   \n",
       "7            7  Americas            Country: Cuba<br>Population: 11416987.0   \n",
       "8            8  Americas  Country: Dominican Republic<br>Population: 931...   \n",
       "9            9  Americas         Country: Ecuador<br>Population: 13755680.0   \n",
       "10          10  Americas      Country: El Salvador<br>Population: 6939688.0   \n",
       "11          11  Americas       Country: Guatemala<br>Population: 12572928.0   \n",
       "12          12  Americas            Country: Haiti<br>Population: 8502814.0   \n",
       "13          13  Americas         Country: Honduras<br>Population: 7483763.0   \n",
       "14          14  Americas          Country: Jamaica<br>Population: 2780132.0   \n",
       "15          15  Americas         Country: Mexico<br>Population: 108700891.0   \n",
       "16          16  Americas        Country: Nicaragua<br>Population: 5675356.0   \n",
       "17          17  Americas           Country: Panama<br>Population: 3242173.0   \n",
       "18          18  Americas         Country: Paraguay<br>Population: 6667147.0   \n",
       "19          19  Americas            Country: Peru<br>Population: 28674757.0   \n",
       "20          20  Americas      Country: Puerto Rico<br>Population: 3942491.0   \n",
       "21          21  Americas  Country: Trinidad and Tobago<br>Population: 10...   \n",
       "22          22  Americas  Country: United States<br>Population: 301139947.0   \n",
       "23          23  Americas          Country: Uruguay<br>Population: 3447496.0   \n",
       "24          24  Americas       Country: Venezuela<br>Population: 26084662.0   \n",
       "25           0    Europe          Country: Albania<br>Population: 3600523.0   \n",
       "26           1    Europe          Country: Austria<br>Population: 8199783.0   \n",
       "27           2    Europe         Country: Belgium<br>Population: 10392226.0   \n",
       "28           3    Europe  Country: Bosnia and Herzegovina<br>Population:...   \n",
       "29           4    Europe         Country: Bulgaria<br>Population: 7322858.0   \n",
       "30           5    Europe          Country: Croatia<br>Population: 4493312.0   \n",
       "31           6    Europe  Country: Czech Republic<br>Population: 10228744.0   \n",
       "32           7    Europe          Country: Denmark<br>Population: 5468120.0   \n",
       "33           8    Europe          Country: Finland<br>Population: 5238460.0   \n",
       "34           9    Europe          Country: France<br>Population: 61083916.0   \n",
       "35          10    Europe         Country: Germany<br>Population: 82400996.0   \n",
       "36          11    Europe          Country: Greece<br>Population: 10706290.0   \n",
       "37          12    Europe          Country: Hungary<br>Population: 9956108.0   \n",
       "38          13    Europe           Country: Iceland<br>Population: 301931.0   \n",
       "39          14    Europe          Country: Ireland<br>Population: 4109086.0   \n",
       "40          15    Europe           Country: Italy<br>Population: 58147733.0   \n",
       "41          16    Europe        Country: Montenegro<br>Population: 684736.0   \n",
       "42          17    Europe     Country: Netherlands<br>Population: 16570613.0   \n",
       "43          18    Europe           Country: Norway<br>Population: 4627926.0   \n",
       "44          19    Europe          Country: Poland<br>Population: 38518241.0   \n",
       "45          20    Europe        Country: Portugal<br>Population: 10642836.0   \n",
       "46          21    Europe         Country: Romania<br>Population: 22276056.0   \n",
       "47          22    Europe          Country: Serbia<br>Population: 10150265.0   \n",
       "48          23    Europe  Country: Slovak Republic<br>Population: 5447502.0   \n",
       "49          24    Europe         Country: Slovenia<br>Population: 2009245.0   \n",
       "50          25    Europe           Country: Spain<br>Population: 40448191.0   \n",
       "51          26    Europe           Country: Sweden<br>Population: 9031088.0   \n",
       "52          27    Europe      Country: Switzerland<br>Population: 7554661.0   \n",
       "53          28    Europe          Country: Turkey<br>Population: 71158647.0   \n",
       "54          29    Europe  Country: United Kingdom<br>Population: 60776238.0   \n",
       "\n",
       "      gdp_percap  life_exp  \n",
       "0   12779.379640    75.320  \n",
       "1    3822.137084    65.554  \n",
       "2    9065.800825    72.390  \n",
       "3   36319.235010    80.653  \n",
       "4   13171.638850    78.553  \n",
       "5    7006.580419    72.889  \n",
       "6    9645.061420    78.782  \n",
       "7    8948.102923    78.273  \n",
       "8    6025.374752    72.235  \n",
       "9    6873.262326    74.994  \n",
       "10   5728.353514    71.878  \n",
       "11   5186.050003    70.259  \n",
       "12   1201.637154    60.916  \n",
       "13   3548.330846    70.198  \n",
       "14   7320.880262    72.567  \n",
       "15  11977.574960    76.195  \n",
       "16   2749.320965    72.899  \n",
       "17   9809.185636    75.537  \n",
       "18   4172.838464    71.752  \n",
       "19   7408.905561    71.421  \n",
       "20  19328.709010    78.746  \n",
       "21  18008.509240    69.819  \n",
       "22  42951.653090    78.242  \n",
       "23  10611.462990    76.384  \n",
       "24  11415.805690    73.747  \n",
       "25   5937.029526    76.423  \n",
       "26  36126.492700    79.829  \n",
       "27  33692.605080    79.441  \n",
       "28   7446.298803    74.852  \n",
       "29  10680.792820    73.005  \n",
       "30  14619.222720    75.748  \n",
       "31  22833.308510    76.486  \n",
       "32  35278.418740    78.332  \n",
       "33  33207.084400    79.313  \n",
       "34  30470.016700    80.657  \n",
       "35  32170.374420    79.406  \n",
       "36  27538.411880    79.483  \n",
       "37  18008.944440    73.338  \n",
       "38  36180.789190    81.757  \n",
       "39  40675.996350    78.885  \n",
       "40  28569.719700    80.546  \n",
       "41   9253.896111    74.543  \n",
       "42  36797.933320    79.762  \n",
       "43  49357.190170    80.196  \n",
       "44  15389.924680    75.563  \n",
       "45  20509.647770    78.098  \n",
       "46  10808.475610    72.476  \n",
       "47   9786.534714    74.002  \n",
       "48  18678.314350    74.663  \n",
       "49  25768.257590    77.926  \n",
       "50  28821.063700    80.941  \n",
       "51  33859.748350    80.884  \n",
       "52  37506.419070    81.701  \n",
       "53   8458.276384    71.777  \n",
       "54  33203.261280    79.425  >"
      ]
     },
     "execution_count": 5,
     "metadata": {},
     "output_type": "execute_result"
    }
   ],
   "source": [
    "df.columns\n",
    "df.describe"
   ]
  },
  {
   "cell_type": "code",
   "execution_count": 139,
   "metadata": {},
   "outputs": [
    {
     "name": "stdout",
     "output_type": "stream",
     "text": [
      "182 + 105.0 = 287.0\n",
      "[287. 285. 283. 281. 279. 277. 275. 273. 271. 269. 267. 265. 263. 261.\n",
      " 259. 257. 255. 253. 251. 249. 247. 245. 243. 241. 239. 237. 235. 233.\n",
      " 231. 229. 227. 225. 223. 221. 219. 217. 215. 213. 211. 209. 207. 205.\n",
      " 203. 201. 199. 197. 195. 193. 191. 189. 187. 185. 183. 181. 179. 177.\n",
      " 175. 173. 171. 169. 167. 165. 163. 161. 159. 157. 155. 153. 151. 149.\n",
      " 147. 145. 143. 141. 139. 137. 135. 133. 131. 129. 127. 125. 123. 121.\n",
      " 119. 117. 115. 113. 111. 109. 107. 105. 103. 101.  99.  97.  95.  93.\n",
      "  91.  89.  87.  85.  83.  81.  79.  77.  75.  73.  71.  69.  67.  65.\n",
      "  63.  61.  59.  57.  55.  53.  51.  49.  47.  45.  43.  41.  39.  37.\n",
      "  35.  33.  31.  29.  27.  25.  23.  21.  19.  17.  15.  13.  11.   9.\n",
      "   7.   5.   3.   1.]\n",
      "36.75\n",
      "72.5\n"
     ]
    },
    {
     "data": {
      "text/plain": [
       "Text(0.5, 1.0, 'title')"
      ]
     },
     "execution_count": 139,
     "metadata": {},
     "output_type": "execute_result"
    },
    {
     "data": {
      "text/plain": [
       "<Figure size 432x288 with 0 Axes>"
      ]
     },
     "metadata": {},
     "output_type": "display_data"
    },
    {
     "data": {
      "image/png": "[encoded data removed]",
      "text/plain": [
       "<Figure size 432x288 with 1 Axes>"
      ]
     },
     "metadata": {
      "needs_background": "light"
     },
     "output_type": "display_data"
    }
   ],
   "source": [
    "import numpy as np\n",
    "import matplotlib.pyplot as plt\n",
    "\n",
    "meds100 = 13 * 14\n",
    "meds25 = 30 * 14 * 0.25\n",
    "# f(a) = 100_meds - 2x\n",
    "#f(b) = 100_meds // 2 - 2x + (25_meds - 3x // 4) : voor x > 8 * 7\n",
    "#f(c) = 100_meds - 2x + (25_meds - 2x // 4)\n",
    "voorraad = meds100 + meds25\n",
    "print(meds100, '+' , meds25, '=' , voorraad)\n",
    "#x = np.linspace( meds100 + meds25, 0, 2 )\n",
    "#plt.plot(x, type='hist')\n",
    "prescribed_daily200 = np.arange(voorraad, 0, -2)\n",
    "print(prescribed_daily200)\n",
    "#prescribed_daily200 = (meds100 + meds25) - 2 * x\n",
    "x = np.arange(0, 144)\n",
    "#prescribed_daily175 = meds100 - x + (meds25 - 0.75 * x // 4)\n",
    "xx = np.arange(voorraad, 0, -1.75)\n",
    "prescribed_daily175 = xx[:144]\n",
    "\n",
    "#prescribed_daily150 = meds100 - x + (meds25 - 0.50 * x // 4)\n",
    "xxx = np.arange(voorraad, 0, -1.50)\n",
    "prescribed_daily150 = xxx[:144]\n",
    "print(prescribed_daily175[-1])\n",
    "print(prescribed_daily150[-1])\n",
    "\n",
    "fig = plt.figure()  # an empty figure with no axes\n",
    "fig.suptitle('Several scenario\\'s for coming months')  # Add a title so we know which it is\n",
    "fig, ax = plt.subplots(1, 1)\n",
    "#fig, ax = plt.subplots(2, 2)  # a figure with a 2x2 grid of Axes\n",
    "#ax.plot(x, y)\n",
    "\n",
    "with plt.style.context('dark_background'):\n",
    "    plt.plot(x, prescribed_daily200, 'k--')\n",
    "    plt.plot(x, prescribed_daily175, color = 'g')\n",
    "    plt.plot(x, prescribed_daily150, 'y') \n",
    "\n",
    "list_x = np.array([0, 30, 60, 90, 120])\n",
    "list_y = voorraad - list_x * 2\n",
    "with plt.style.context('dark_background'):\n",
    "    plt.scatter(list_x, list_y, color = 'w', marker = 'H') \n",
    "    #ax.annotate('start point', xy=([(a, b) for a, b in zip(list_x, list_y)]), xytext=([(a, b  - 75) for a, b in zip(list_x, list_y)]),\n",
    "    #        arrowprops=dict(facecolor='white', shrink=0.05),\n",
    "    #        )\n",
    "\n",
    "list_y = voorraad - list_x * 1.75\n",
    "plt.scatter(list_x, list_y, color = 'r', marker = 's') \n",
    "list_y = voorraad - list_x * 1.5\n",
    "plt.scatter(list_x, list_y, color = 'b', marker = 'D') \n",
    "\n",
    "plt.xlabel('x')\n",
    "plt.ylabel('y')\n",
    "plt.title('title')\n",
    "#py.iplot(x, prescribed_daily200, filename='200_prescribed_daily')\n",
    "#200_prescribed_daily = 100_meds // 2 \n",
    "#175_prescribed_daily = 100_meds + 25_meds // 3\n",
    "#150_prescribed_daily = "
   ]
  },
  {
   "cell_type": "code",
   "execution_count": 64,
   "metadata": {},
   "outputs": [
    {
     "ename": "ValueError",
     "evalue": "\n    Invalid value of type 'builtins.dict' received for the 'data' property of \n        Received value: {0: array([287., 285., 283., 281., 279., 277., 275., 273., 271., 269., 267.,\n       265., 263., 261., 259., 257., 255., 253., 251., 249., 247., 245.,\n       243., 241., 239., 237., 235., 233., 231., 229., 227., 225., 223.,\n       221., 219., 217., 215., 213., 211., 209., 207., 205., 203., 201.,\n       199., 197., 195., 193., 191., 189., 187., 185., 183., 181., 179.,\n       177., 175., 173., 171., 169., 167., 165., 163., 161., 159., 157.,\n       155., 153., 151., 149., 147., 145., 143., 141., 139., 137., 135.,\n       133., 131., 129., 127., 125., 123., 121., 119., 117., 115., 113.,\n       111., 109., 107., 105., 103., 101.,  99.,  97.,  95.,  93.,  91.,\n        89.,  87.,  85.,  83.,  81.,  79.,  77.,  75.,  73.,  71.,  69.,\n        67.,  65.,  63.,  61.,  59.,  57.,  55.,  53.,  51.,  49.,  47.,\n        45.,  43.,  41.,  39.,  37.,  35.,  33.,  31.,  29.,  27.,  25.,\n        23.,  21.,  19.,  17.,  15.,  13.,  11.,   9.,   7.,   5.,   3.,\n         1.]), 1: array([287.  , 285.25, 283.5 , 281.75, 280.  , 278.25, 276.5 , 274.75,\n       273.  , 271.25, 269.5 , 267.75, 266.  , 264.25, 262.5 , 260.75,\n       259.  , 257.25, 255.5 , 253.75, 252.  , 250.25, 248.5 , 246.75,\n       245.  , 243.25, 241.5 , 239.75, 238.  , 236.25, 234.5 , 232.75,\n       231.  , 229.25, 227.5 , 225.75, 224.  , 222.25, 220.5 , 218.75,\n       217.  , 215.25, 213.5 , 211.75, 210.  , 208.25, 206.5 , 204.75,\n       203.  , 201.25, 199.5 , 197.75, 196.  , 194.25, 192.5 , 190.75,\n       189.  , 187.25, 185.5 , 183.75, 182.  , 180.25, 178.5 , 176.75,\n       175.  , 173.25, 171.5 , 169.75, 168.  , 166.25, 164.5 , 162.75,\n       161.  , 159.25, 157.5 , 155.75, 154.  , 152.25, 150.5 , 148.75,\n       147.  , 145.25, 143.5 , 141.75, 140.  , 138.25, 136.5 , 134.75,\n       133.  , 131.25, 129.5 , 127.75, 126.  , 124.25, 122.5 , 120.75,\n       119.  , 117.25, 115.5 , 113.75, 112.  , 110.25, 108.5 , 106.75,\n       105.  , 103.25, 101.5 ,  99.75,  98.  ,  96.25,  94.5 ,  92.75,\n        91.  ,  89.25,  87.5 ,  85.75,  84.  ,  82.25,  80.5 ,  78.75,\n        77.  ,  75.25,  73.5 ,  71.75,  70.  ,  68.25,  66.5 ,  64.75,\n        63.  ,  61.25,  59.5 ,  57.75,  56.  ,  54.25,  52.5 ,  50.75,\n        49.  ,  47.25,  45.5 ,  43.75,  42.  ,  40.25,  38.5 ,  36.75]), 2: array([287. , 285.5, 284. , 282.5, 281. , 279.5, 278. , 276.5, 275. ,\n       273.5, 272. , 270.5, 269. , 267.5, 266. , 264.5, 263. , 261.5,\n       260. , 258.5, 257. , 255.5, 254. , 252.5, 251. , 249.5, 248. ,\n       246.5, 245. , 243.5, 242. , 240.5, 239. , 237.5, 236. , 234.5,\n       233. , 231.5, 230. , 228.5, 227. , 225.5, 224. , 222.5, 221. ,\n       219.5, 218. , 216.5, 215. , 213.5, 212. , 210.5, 209. , 207.5,\n       206. , 204.5, 203. , 201.5, 200. , 198.5, 197. , 195.5, 194. ,\n       192.5, 191. , 189.5, 188. , 186.5, 185. , 183.5, 182. , 180.5,\n       179. , 177.5, 176. , 174.5, 173. , 171.5, 170. , 168.5, 167. ,\n       165.5, 164. , 162.5, 161. , 159.5, 158. , 156.5, 155. , 153.5,\n       152. , 150.5, 149. , 147.5, 146. , 144.5, 143. , 141.5, 140. ,\n       138.5, 137. , 135.5, 134. , 132.5, 131. , 129.5, 128. , 126.5,\n       125. , 123.5, 122. , 120.5, 119. , 117.5, 116. , 114.5, 113. ,\n       111.5, 110. , 108.5, 107. , 105.5, 104. , 102.5, 101. ,  99.5,\n        98. ,  96.5,  95. ,  93.5,  92. ,  90.5,  89. ,  87.5,  86. ,\n        84.5,  83. ,  81.5,  80. ,  78.5,  77. ,  75.5,  74. ,  72.5])}\n\n    The 'data' property is a tuple of trace instances\n    that may be specified as:\n      - A list or tuple of trace instances\n        (e.g. [Scatter(...), Bar(...)])\n      - A list or tuple of dicts of string/value properties where:\n        - The 'type' property specifies the trace type\n            One of: ['area', 'bar', 'barpolar', 'box',\n                     'candlestick', 'carpet', 'choropleth', 'cone',\n                     'contour', 'contourcarpet', 'funnel',\n                     'funnelarea', 'heatmap', 'heatmapgl',\n                     'histogram', 'histogram2d',\n                     'histogram2dcontour', 'isosurface', 'mesh3d',\n                     'ohlc', 'parcats', 'parcoords', 'pie',\n                     'pointcloud', 'sankey', 'scatter',\n                     'scatter3d', 'scattercarpet', 'scattergeo',\n                     'scattergl', 'scattermapbox', 'scatterpolar',\n                     'scatterpolargl', 'scatterternary', 'splom',\n                     'streamtube', 'sunburst', 'surface', 'table',\n                     'violin', 'volume', 'waterfall']\n\n        - All remaining properties are passed to the constructor of\n          the specified trace type\n\n        (e.g. [{'type': 'scatter', ...}, {'type': 'bar, ...}])",
     "output_type": "error",
     "traceback": [
      "\u001b[0;31m---------------------------------------------------------------------------\u001b[0m",
      "\u001b[0;31mValueError\u001b[0m                                Traceback (most recent call last)",
      "\u001b[0;32m<ipython-input-64-b050f8674ed2>\u001b[0m in \u001b[0;36m<module>\u001b[0;34m\u001b[0m\n\u001b[1;32m      1\u001b[0m \u001b[0;34m\u001b[0m\u001b[0m\n\u001b[1;32m      2\u001b[0m \u001b[0mlayout\u001b[0m\u001b[0;34m=\u001b[0m\u001b[0mgo\u001b[0m\u001b[0;34m.\u001b[0m\u001b[0mLayout\u001b[0m\u001b[0;34m(\u001b[0m\u001b[0mtitle\u001b[0m\u001b[0;34m=\u001b[0m\u001b[0;34m\"Stock of Meds Plot\"\u001b[0m\u001b[0;34m,\u001b[0m \u001b[0mxaxis\u001b[0m\u001b[0;34m=\u001b[0m\u001b[0;34m{\u001b[0m\u001b[0;34m'title'\u001b[0m\u001b[0;34m:\u001b[0m\u001b[0;34m'dagen'\u001b[0m\u001b[0;34m}\u001b[0m\u001b[0;34m,\u001b[0m \u001b[0myaxis\u001b[0m\u001b[0;34m=\u001b[0m\u001b[0;34m{\u001b[0m\u001b[0;34m'title'\u001b[0m\u001b[0;34m:\u001b[0m\u001b[0;34m'aantal tabletten op voorraad'\u001b[0m\u001b[0;34m}\u001b[0m\u001b[0;34m)\u001b[0m\u001b[0;34m\u001b[0m\u001b[0;34m\u001b[0m\u001b[0m\n\u001b[0;32m----> 3\u001b[0;31m \u001b[0mfigure\u001b[0m\u001b[0;34m=\u001b[0m\u001b[0mgo\u001b[0m\u001b[0;34m.\u001b[0m\u001b[0mFigure\u001b[0m\u001b[0;34m(\u001b[0m\u001b[0mdata\u001b[0m\u001b[0;34m=\u001b[0m\u001b[0mamount\u001b[0m\u001b[0;34m,\u001b[0m\u001b[0mlayout\u001b[0m\u001b[0;34m=\u001b[0m\u001b[0mlayout\u001b[0m\u001b[0;34m)\u001b[0m\u001b[0;34m\u001b[0m\u001b[0;34m\u001b[0m\u001b[0m\n\u001b[0m\u001b[1;32m      4\u001b[0m \u001b[0mpy\u001b[0m\u001b[0;34m.\u001b[0m\u001b[0miplot\u001b[0m\u001b[0;34m(\u001b[0m\u001b[0mfigure\u001b[0m\u001b[0;34m,\u001b[0m \u001b[0mfilename\u001b[0m\u001b[0;34m=\u001b[0m\u001b[0;34m'meds'\u001b[0m\u001b[0;34m)\u001b[0m\u001b[0;34m\u001b[0m\u001b[0;34m\u001b[0m\u001b[0m\n",
      "\u001b[0;32m~/.virtualenvs/FlyPy/lib/python3.7/site-packages/plotly/graph_objs/_figure.py\u001b[0m in \u001b[0;36m__init__\u001b[0;34m(self, data, layout, frames, skip_invalid, **kwargs)\u001b[0m\n\u001b[1;32m    550\u001b[0m         \"\"\"\n\u001b[1;32m    551\u001b[0m         super(Figure,\n\u001b[0;32m--> 552\u001b[0;31m               self).__init__(data, layout, frames, skip_invalid, **kwargs)\n\u001b[0m\u001b[1;32m    553\u001b[0m \u001b[0;34m\u001b[0m\u001b[0m\n\u001b[1;32m    554\u001b[0m     def add_area(\n",
      "\u001b[0;32m~/.virtualenvs/FlyPy/lib/python3.7/site-packages/plotly/basedatatypes.py\u001b[0m in \u001b[0;36m__init__\u001b[0;34m(self, data, layout_plotly, frames, skip_invalid, **kwargs)\u001b[0m\n\u001b[1;32m    154\u001b[0m         \u001b[0;31m# ### Import traces ###\u001b[0m\u001b[0;34m\u001b[0m\u001b[0;34m\u001b[0m\u001b[0;34m\u001b[0m\u001b[0m\n\u001b[1;32m    155\u001b[0m         data = self._data_validator.validate_coerce(data,\n\u001b[0;32m--> 156\u001b[0;31m                                                     skip_invalid=skip_invalid)\n\u001b[0m\u001b[1;32m    157\u001b[0m \u001b[0;34m\u001b[0m\u001b[0m\n\u001b[1;32m    158\u001b[0m         \u001b[0;31m# ### Save tuple of trace objects ###\u001b[0m\u001b[0;34m\u001b[0m\u001b[0;34m\u001b[0m\u001b[0;34m\u001b[0m\u001b[0m\n",
      "\u001b[0;32m~/.virtualenvs/FlyPy/lib/python3.7/site-packages/_plotly_utils/basevalidators.py\u001b[0m in \u001b[0;36mvalidate_coerce\u001b[0;34m(self, v, skip_invalid)\u001b[0m\n\u001b[1;32m   2358\u001b[0m                 \u001b[0mv\u001b[0m \u001b[0;34m=\u001b[0m \u001b[0;34m[\u001b[0m\u001b[0;34m]\u001b[0m\u001b[0;34m\u001b[0m\u001b[0;34m\u001b[0m\u001b[0m\n\u001b[1;32m   2359\u001b[0m             \u001b[0;32melse\u001b[0m\u001b[0;34m:\u001b[0m\u001b[0;34m\u001b[0m\u001b[0;34m\u001b[0m\u001b[0m\n\u001b[0;32m-> 2360\u001b[0;31m                 \u001b[0mself\u001b[0m\u001b[0;34m.\u001b[0m\u001b[0mraise_invalid_val\u001b[0m\u001b[0;34m(\u001b[0m\u001b[0mv\u001b[0m\u001b[0;34m)\u001b[0m\u001b[0;34m\u001b[0m\u001b[0;34m\u001b[0m\u001b[0m\n\u001b[0m\u001b[1;32m   2361\u001b[0m \u001b[0;34m\u001b[0m\u001b[0m\n\u001b[1;32m   2362\u001b[0m         \u001b[0;32mreturn\u001b[0m \u001b[0mv\u001b[0m\u001b[0;34m\u001b[0m\u001b[0;34m\u001b[0m\u001b[0m\n",
      "\u001b[0;32m~/.virtualenvs/FlyPy/lib/python3.7/site-packages/_plotly_utils/basevalidators.py\u001b[0m in \u001b[0;36mraise_invalid_val\u001b[0;34m(self, v, inds)\u001b[0m\n\u001b[1;32m    275\u001b[0m             \u001b[0mtyp\u001b[0m\u001b[0;34m=\u001b[0m\u001b[0mtype_str\u001b[0m\u001b[0;34m(\u001b[0m\u001b[0mv\u001b[0m\u001b[0;34m)\u001b[0m\u001b[0;34m,\u001b[0m\u001b[0;34m\u001b[0m\u001b[0;34m\u001b[0m\u001b[0m\n\u001b[1;32m    276\u001b[0m             \u001b[0mv\u001b[0m\u001b[0;34m=\u001b[0m\u001b[0mrepr\u001b[0m\u001b[0;34m(\u001b[0m\u001b[0mv\u001b[0m\u001b[0;34m)\u001b[0m\u001b[0;34m,\u001b[0m\u001b[0;34m\u001b[0m\u001b[0;34m\u001b[0m\u001b[0m\n\u001b[0;32m--> 277\u001b[0;31m             valid_clr_desc=self.description()))\n\u001b[0m\u001b[1;32m    278\u001b[0m \u001b[0;34m\u001b[0m\u001b[0m\n\u001b[1;32m    279\u001b[0m     \u001b[0;32mdef\u001b[0m \u001b[0mraise_invalid_elements\u001b[0m\u001b[0;34m(\u001b[0m\u001b[0mself\u001b[0m\u001b[0;34m,\u001b[0m \u001b[0minvalid_els\u001b[0m\u001b[0;34m)\u001b[0m\u001b[0;34m:\u001b[0m\u001b[0;34m\u001b[0m\u001b[0;34m\u001b[0m\u001b[0m\n",
      "\u001b[0;31mValueError\u001b[0m: \n    Invalid value of type 'builtins.dict' received for the 'data' property of \n        Received value: {0: array([287., 285., 283., 281., 279., 277., 275., 273., 271., 269., 267.,\n       265., 263., 261., 259., 257., 255., 253., 251., 249., 247., 245.,\n       243., 241., 239., 237., 235., 233., 231., 229., 227., 225., 223.,\n       221., 219., 217., 215., 213., 211., 209., 207., 205., 203., 201.,\n       199., 197., 195., 193., 191., 189., 187., 185., 183., 181., 179.,\n       177., 175., 173., 171., 169., 167., 165., 163., 161., 159., 157.,\n       155., 153., 151., 149., 147., 145., 143., 141., 139., 137., 135.,\n       133., 131., 129., 127., 125., 123., 121., 119., 117., 115., 113.,\n       111., 109., 107., 105., 103., 101.,  99.,  97.,  95.,  93.,  91.,\n        89.,  87.,  85.,  83.,  81.,  79.,  77.,  75.,  73.,  71.,  69.,\n        67.,  65.,  63.,  61.,  59.,  57.,  55.,  53.,  51.,  49.,  47.,\n        45.,  43.,  41.,  39.,  37.,  35.,  33.,  31.,  29.,  27.,  25.,\n        23.,  21.,  19.,  17.,  15.,  13.,  11.,   9.,   7.,   5.,   3.,\n         1.]), 1: array([287.  , 285.25, 283.5 , 281.75, 280.  , 278.25, 276.5 , 274.75,\n       273.  , 271.25, 269.5 , 267.75, 266.  , 264.25, 262.5 , 260.75,\n       259.  , 257.25, 255.5 , 253.75, 252.  , 250.25, 248.5 , 246.75,\n       245.  , 243.25, 241.5 , 239.75, 238.  , 236.25, 234.5 , 232.75,\n       231.  , 229.25, 227.5 , 225.75, 224.  , 222.25, 220.5 , 218.75,\n       217.  , 215.25, 213.5 , 211.75, 210.  , 208.25, 206.5 , 204.75,\n       203.  , 201.25, 199.5 , 197.75, 196.  , 194.25, 192.5 , 190.75,\n       189.  , 187.25, 185.5 , 183.75, 182.  , 180.25, 178.5 , 176.75,\n       175.  , 173.25, 171.5 , 169.75, 168.  , 166.25, 164.5 , 162.75,\n       161.  , 159.25, 157.5 , 155.75, 154.  , 152.25, 150.5 , 148.75,\n       147.  , 145.25, 143.5 , 141.75, 140.  , 138.25, 136.5 , 134.75,\n       133.  , 131.25, 129.5 , 127.75, 126.  , 124.25, 122.5 , 120.75,\n       119.  , 117.25, 115.5 , 113.75, 112.  , 110.25, 108.5 , 106.75,\n       105.  , 103.25, 101.5 ,  99.75,  98.  ,  96.25,  94.5 ,  92.75,\n        91.  ,  89.25,  87.5 ,  85.75,  84.  ,  82.25,  80.5 ,  78.75,\n        77.  ,  75.25,  73.5 ,  71.75,  70.  ,  68.25,  66.5 ,  64.75,\n        63.  ,  61.25,  59.5 ,  57.75,  56.  ,  54.25,  52.5 ,  50.75,\n        49.  ,  47.25,  45.5 ,  43.75,  42.  ,  40.25,  38.5 ,  36.75]), 2: array([287. , 285.5, 284. , 282.5, 281. , 279.5, 278. , 276.5, 275. ,\n       273.5, 272. , 270.5, 269. , 267.5, 266. , 264.5, 263. , 261.5,\n       260. , 258.5, 257. , 255.5, 254. , 252.5, 251. , 249.5, 248. ,\n       246.5, 245. , 243.5, 242. , 240.5, 239. , 237.5, 236. , 234.5,\n       233. , 231.5, 230. , 228.5, 227. , 225.5, 224. , 222.5, 221. ,\n       219.5, 218. , 216.5, 215. , 213.5, 212. , 210.5, 209. , 207.5,\n       206. , 204.5, 203. , 201.5, 200. , 198.5, 197. , 195.5, 194. ,\n       192.5, 191. , 189.5, 188. , 186.5, 185. , 183.5, 182. , 180.5,\n       179. , 177.5, 176. , 174.5, 173. , 171.5, 170. , 168.5, 167. ,\n       165.5, 164. , 162.5, 161. , 159.5, 158. , 156.5, 155. , 153.5,\n       152. , 150.5, 149. , 147.5, 146. , 144.5, 143. , 141.5, 140. ,\n       138.5, 137. , 135.5, 134. , 132.5, 131. , 129.5, 128. , 126.5,\n       125. , 123.5, 122. , 120.5, 119. , 117.5, 116. , 114.5, 113. ,\n       111.5, 110. , 108.5, 107. , 105.5, 104. , 102.5, 101. ,  99.5,\n        98. ,  96.5,  95. ,  93.5,  92. ,  90.5,  89. ,  87.5,  86. ,\n        84.5,  83. ,  81.5,  80. ,  78.5,  77. ,  75.5,  74. ,  72.5])}\n\n    The 'data' property is a tuple of trace instances\n    that may be specified as:\n      - A list or tuple of trace instances\n        (e.g. [Scatter(...), Bar(...)])\n      - A list or tuple of dicts of string/value properties where:\n        - The 'type' property specifies the trace type\n            One of: ['area', 'bar', 'barpolar', 'box',\n                     'candlestick', 'carpet', 'choropleth', 'cone',\n                     'contour', 'contourcarpet', 'funnel',\n                     'funnelarea', 'heatmap', 'heatmapgl',\n                     'histogram', 'histogram2d',\n                     'histogram2dcontour', 'isosurface', 'mesh3d',\n                     'ohlc', 'parcats', 'parcoords', 'pie',\n                     'pointcloud', 'sankey', 'scatter',\n                     'scatter3d', 'scattercarpet', 'scattergeo',\n                     'scattergl', 'scattermapbox', 'scatterpolar',\n                     'scatterpolargl', 'scatterternary', 'splom',\n                     'streamtube', 'sunburst', 'surface', 'table',\n                     'violin', 'volume', 'waterfall']\n\n        - All remaining properties are passed to the constructor of\n          the specified trace type\n\n        (e.g. [{'type': 'scatter', ...}, {'type': 'bar, ...}])"
     ]
    }
   ],
   "source": [
    "                                               \n",
    "layout=go.Layout(title=\"Stock of Meds Plot\", xaxis={'title':'dagen'}, yaxis={'title':'aantal tabletten op voorraad'})\n",
    "figure=go.Figure(data=amount,layout=layout)\n",
    "py.iplot(figure, filename='meds')"
   ]
  },
  {
   "cell_type": "code",
   "execution_count": 74,
   "metadata": {},
   "outputs": [],
   "source": [
    "amount = np.array(zip(x, [prescribed_daily200, prescribed_daily175, prescribed_daily150]))"
   ]
  },
  {
   "cell_type": "code",
   "execution_count": 76,
   "metadata": {},
   "outputs": [
    {
     "ename": "RuntimeError",
     "evalue": "matplotlib does not support generators as input",
     "output_type": "error",
     "traceback": [
      "\u001b[0;31m---------------------------------------------------------------------------\u001b[0m",
      "\u001b[0;31mAttributeError\u001b[0m                            Traceback (most recent call last)",
      "\u001b[0;32m~/.virtualenvs/FlyPy/lib/python3.7/site-packages/matplotlib/units.py\u001b[0m in \u001b[0;36mget_converter\u001b[0;34m(self, x)\u001b[0m\n\u001b[1;32m    167\u001b[0m                 \u001b[0;31m# get_converter\u001b[0m\u001b[0;34m\u001b[0m\u001b[0;34m\u001b[0m\u001b[0;34m\u001b[0m\u001b[0m\n\u001b[0;32m--> 168\u001b[0;31m                 \u001b[0;32mif\u001b[0m \u001b[0;32mnot\u001b[0m \u001b[0mnp\u001b[0m\u001b[0;34m.\u001b[0m\u001b[0mall\u001b[0m\u001b[0;34m(\u001b[0m\u001b[0mxravel\u001b[0m\u001b[0;34m.\u001b[0m\u001b[0mmask\u001b[0m\u001b[0;34m)\u001b[0m\u001b[0;34m:\u001b[0m\u001b[0;34m\u001b[0m\u001b[0;34m\u001b[0m\u001b[0m\n\u001b[0m\u001b[1;32m    169\u001b[0m                     \u001b[0;31m# some elements are not masked\u001b[0m\u001b[0;34m\u001b[0m\u001b[0;34m\u001b[0m\u001b[0;34m\u001b[0m\u001b[0m\n",
      "\u001b[0;31mAttributeError\u001b[0m: 'numpy.ndarray' object has no attribute 'mask'",
      "\nDuring handling of the above exception, another exception occurred:\n",
      "\u001b[0;31mRuntimeError\u001b[0m                              Traceback (most recent call last)",
      "\u001b[0;32m<ipython-input-76-8adf7498e716>\u001b[0m in \u001b[0;36m<module>\u001b[0;34m\u001b[0m\n\u001b[0;32m----> 1\u001b[0;31m \u001b[0mplt\u001b[0m\u001b[0;34m.\u001b[0m\u001b[0mplot\u001b[0m\u001b[0;34m(\u001b[0m\u001b[0mamount\u001b[0m\u001b[0;34m,\u001b[0m \u001b[0mcolor\u001b[0m \u001b[0;34m=\u001b[0m \u001b[0;34m'b'\u001b[0m\u001b[0;34m)\u001b[0m\u001b[0;34m\u001b[0m\u001b[0;34m\u001b[0m\u001b[0m\n\u001b[0m",
      "\u001b[0;32m~/.virtualenvs/FlyPy/lib/python3.7/site-packages/matplotlib/pyplot.py\u001b[0m in \u001b[0;36mplot\u001b[0;34m(scalex, scaley, data, *args, **kwargs)\u001b[0m\n\u001b[1;32m   2809\u001b[0m     return gca().plot(\n\u001b[1;32m   2810\u001b[0m         *args, scalex=scalex, scaley=scaley, **({\"data\": data} if data\n\u001b[0;32m-> 2811\u001b[0;31m         is not None else {}), **kwargs)\n\u001b[0m\u001b[1;32m   2812\u001b[0m \u001b[0;34m\u001b[0m\u001b[0m\n\u001b[1;32m   2813\u001b[0m \u001b[0;34m\u001b[0m\u001b[0m\n",
      "\u001b[0;32m~/.virtualenvs/FlyPy/lib/python3.7/site-packages/matplotlib/__init__.py\u001b[0m in \u001b[0;36minner\u001b[0;34m(ax, data, *args, **kwargs)\u001b[0m\n\u001b[1;32m   1808\u001b[0m                         \u001b[0;34m\"the Matplotlib list!)\"\u001b[0m \u001b[0;34m%\u001b[0m \u001b[0;34m(\u001b[0m\u001b[0mlabel_namer\u001b[0m\u001b[0;34m,\u001b[0m \u001b[0mfunc\u001b[0m\u001b[0;34m.\u001b[0m\u001b[0m__name__\u001b[0m\u001b[0;34m)\u001b[0m\u001b[0;34m,\u001b[0m\u001b[0;34m\u001b[0m\u001b[0;34m\u001b[0m\u001b[0m\n\u001b[1;32m   1809\u001b[0m                         RuntimeWarning, stacklevel=2)\n\u001b[0;32m-> 1810\u001b[0;31m             \u001b[0;32mreturn\u001b[0m \u001b[0mfunc\u001b[0m\u001b[0;34m(\u001b[0m\u001b[0max\u001b[0m\u001b[0;34m,\u001b[0m \u001b[0;34m*\u001b[0m\u001b[0margs\u001b[0m\u001b[0;34m,\u001b[0m \u001b[0;34m**\u001b[0m\u001b[0mkwargs\u001b[0m\u001b[0;34m)\u001b[0m\u001b[0;34m\u001b[0m\u001b[0;34m\u001b[0m\u001b[0m\n\u001b[0m\u001b[1;32m   1811\u001b[0m \u001b[0;34m\u001b[0m\u001b[0m\n\u001b[1;32m   1812\u001b[0m         inner.__doc__ = _add_data_doc(inner.__doc__,\n",
      "\u001b[0;32m~/.virtualenvs/FlyPy/lib/python3.7/site-packages/matplotlib/axes/_axes.py\u001b[0m in \u001b[0;36mplot\u001b[0;34m(self, scalex, scaley, *args, **kwargs)\u001b[0m\n\u001b[1;32m   1609\u001b[0m         \u001b[0mkwargs\u001b[0m \u001b[0;34m=\u001b[0m \u001b[0mcbook\u001b[0m\u001b[0;34m.\u001b[0m\u001b[0mnormalize_kwargs\u001b[0m\u001b[0;34m(\u001b[0m\u001b[0mkwargs\u001b[0m\u001b[0;34m,\u001b[0m \u001b[0mmlines\u001b[0m\u001b[0;34m.\u001b[0m\u001b[0mLine2D\u001b[0m\u001b[0;34m.\u001b[0m\u001b[0m_alias_map\u001b[0m\u001b[0;34m)\u001b[0m\u001b[0;34m\u001b[0m\u001b[0;34m\u001b[0m\u001b[0m\n\u001b[1;32m   1610\u001b[0m \u001b[0;34m\u001b[0m\u001b[0m\n\u001b[0;32m-> 1611\u001b[0;31m         \u001b[0;32mfor\u001b[0m \u001b[0mline\u001b[0m \u001b[0;32min\u001b[0m \u001b[0mself\u001b[0m\u001b[0;34m.\u001b[0m\u001b[0m_get_lines\u001b[0m\u001b[0;34m(\u001b[0m\u001b[0;34m*\u001b[0m\u001b[0margs\u001b[0m\u001b[0;34m,\u001b[0m \u001b[0;34m**\u001b[0m\u001b[0mkwargs\u001b[0m\u001b[0;34m)\u001b[0m\u001b[0;34m:\u001b[0m\u001b[0;34m\u001b[0m\u001b[0;34m\u001b[0m\u001b[0m\n\u001b[0m\u001b[1;32m   1612\u001b[0m             \u001b[0mself\u001b[0m\u001b[0;34m.\u001b[0m\u001b[0madd_line\u001b[0m\u001b[0;34m(\u001b[0m\u001b[0mline\u001b[0m\u001b[0;34m)\u001b[0m\u001b[0;34m\u001b[0m\u001b[0;34m\u001b[0m\u001b[0m\n\u001b[1;32m   1613\u001b[0m             \u001b[0mlines\u001b[0m\u001b[0;34m.\u001b[0m\u001b[0mappend\u001b[0m\u001b[0;34m(\u001b[0m\u001b[0mline\u001b[0m\u001b[0;34m)\u001b[0m\u001b[0;34m\u001b[0m\u001b[0;34m\u001b[0m\u001b[0m\n",
      "\u001b[0;32m~/.virtualenvs/FlyPy/lib/python3.7/site-packages/matplotlib/axes/_base.py\u001b[0m in \u001b[0;36m_grab_next_args\u001b[0;34m(self, *args, **kwargs)\u001b[0m\n\u001b[1;32m    391\u001b[0m                 \u001b[0mthis\u001b[0m \u001b[0;34m+=\u001b[0m \u001b[0margs\u001b[0m\u001b[0;34m[\u001b[0m\u001b[0;36m0\u001b[0m\u001b[0;34m]\u001b[0m\u001b[0;34m,\u001b[0m\u001b[0;34m\u001b[0m\u001b[0;34m\u001b[0m\u001b[0m\n\u001b[1;32m    392\u001b[0m                 \u001b[0margs\u001b[0m \u001b[0;34m=\u001b[0m \u001b[0margs\u001b[0m\u001b[0;34m[\u001b[0m\u001b[0;36m1\u001b[0m\u001b[0;34m:\u001b[0m\u001b[0;34m]\u001b[0m\u001b[0;34m\u001b[0m\u001b[0;34m\u001b[0m\u001b[0m\n\u001b[0;32m--> 393\u001b[0;31m             \u001b[0;32myield\u001b[0m \u001b[0;32mfrom\u001b[0m \u001b[0mself\u001b[0m\u001b[0;34m.\u001b[0m\u001b[0m_plot_args\u001b[0m\u001b[0;34m(\u001b[0m\u001b[0mthis\u001b[0m\u001b[0;34m,\u001b[0m \u001b[0mkwargs\u001b[0m\u001b[0;34m)\u001b[0m\u001b[0;34m\u001b[0m\u001b[0;34m\u001b[0m\u001b[0m\n\u001b[0m\u001b[1;32m    394\u001b[0m \u001b[0;34m\u001b[0m\u001b[0m\n\u001b[1;32m    395\u001b[0m \u001b[0;34m\u001b[0m\u001b[0m\n",
      "\u001b[0;32m~/.virtualenvs/FlyPy/lib/python3.7/site-packages/matplotlib/axes/_base.py\u001b[0m in \u001b[0;36m_plot_args\u001b[0;34m(self, tup, kwargs)\u001b[0m\n\u001b[1;32m    368\u001b[0m             \u001b[0mx\u001b[0m\u001b[0;34m,\u001b[0m \u001b[0my\u001b[0m \u001b[0;34m=\u001b[0m \u001b[0mindex_of\u001b[0m\u001b[0;34m(\u001b[0m\u001b[0mtup\u001b[0m\u001b[0;34m[\u001b[0m\u001b[0;34m-\u001b[0m\u001b[0;36m1\u001b[0m\u001b[0;34m]\u001b[0m\u001b[0;34m)\u001b[0m\u001b[0;34m\u001b[0m\u001b[0;34m\u001b[0m\u001b[0m\n\u001b[1;32m    369\u001b[0m \u001b[0;34m\u001b[0m\u001b[0m\n\u001b[0;32m--> 370\u001b[0;31m         \u001b[0mx\u001b[0m\u001b[0;34m,\u001b[0m \u001b[0my\u001b[0m \u001b[0;34m=\u001b[0m \u001b[0mself\u001b[0m\u001b[0;34m.\u001b[0m\u001b[0m_xy_from_xy\u001b[0m\u001b[0;34m(\u001b[0m\u001b[0mx\u001b[0m\u001b[0;34m,\u001b[0m \u001b[0my\u001b[0m\u001b[0;34m)\u001b[0m\u001b[0;34m\u001b[0m\u001b[0;34m\u001b[0m\u001b[0m\n\u001b[0m\u001b[1;32m    371\u001b[0m \u001b[0;34m\u001b[0m\u001b[0m\n\u001b[1;32m    372\u001b[0m         \u001b[0;32mif\u001b[0m \u001b[0mself\u001b[0m\u001b[0;34m.\u001b[0m\u001b[0mcommand\u001b[0m \u001b[0;34m==\u001b[0m \u001b[0;34m'plot'\u001b[0m\u001b[0;34m:\u001b[0m\u001b[0;34m\u001b[0m\u001b[0;34m\u001b[0m\u001b[0m\n",
      "\u001b[0;32m~/.virtualenvs/FlyPy/lib/python3.7/site-packages/matplotlib/axes/_base.py\u001b[0m in \u001b[0;36m_xy_from_xy\u001b[0;34m(self, x, y)\u001b[0m\n\u001b[1;32m    203\u001b[0m         \u001b[0;32mif\u001b[0m \u001b[0mself\u001b[0m\u001b[0;34m.\u001b[0m\u001b[0maxes\u001b[0m\u001b[0;34m.\u001b[0m\u001b[0mxaxis\u001b[0m \u001b[0;32mis\u001b[0m \u001b[0;32mnot\u001b[0m \u001b[0;32mNone\u001b[0m \u001b[0;32mand\u001b[0m \u001b[0mself\u001b[0m\u001b[0;34m.\u001b[0m\u001b[0maxes\u001b[0m\u001b[0;34m.\u001b[0m\u001b[0myaxis\u001b[0m \u001b[0;32mis\u001b[0m \u001b[0;32mnot\u001b[0m \u001b[0;32mNone\u001b[0m\u001b[0;34m:\u001b[0m\u001b[0;34m\u001b[0m\u001b[0;34m\u001b[0m\u001b[0m\n\u001b[1;32m    204\u001b[0m             \u001b[0mbx\u001b[0m \u001b[0;34m=\u001b[0m \u001b[0mself\u001b[0m\u001b[0;34m.\u001b[0m\u001b[0maxes\u001b[0m\u001b[0;34m.\u001b[0m\u001b[0mxaxis\u001b[0m\u001b[0;34m.\u001b[0m\u001b[0mupdate_units\u001b[0m\u001b[0;34m(\u001b[0m\u001b[0mx\u001b[0m\u001b[0;34m)\u001b[0m\u001b[0;34m\u001b[0m\u001b[0;34m\u001b[0m\u001b[0m\n\u001b[0;32m--> 205\u001b[0;31m             \u001b[0mby\u001b[0m \u001b[0;34m=\u001b[0m \u001b[0mself\u001b[0m\u001b[0;34m.\u001b[0m\u001b[0maxes\u001b[0m\u001b[0;34m.\u001b[0m\u001b[0myaxis\u001b[0m\u001b[0;34m.\u001b[0m\u001b[0mupdate_units\u001b[0m\u001b[0;34m(\u001b[0m\u001b[0my\u001b[0m\u001b[0;34m)\u001b[0m\u001b[0;34m\u001b[0m\u001b[0;34m\u001b[0m\u001b[0m\n\u001b[0m\u001b[1;32m    206\u001b[0m \u001b[0;34m\u001b[0m\u001b[0m\n\u001b[1;32m    207\u001b[0m             \u001b[0;32mif\u001b[0m \u001b[0mself\u001b[0m\u001b[0;34m.\u001b[0m\u001b[0mcommand\u001b[0m \u001b[0;34m!=\u001b[0m \u001b[0;34m'plot'\u001b[0m\u001b[0;34m:\u001b[0m\u001b[0;34m\u001b[0m\u001b[0;34m\u001b[0m\u001b[0m\n",
      "\u001b[0;32m~/.virtualenvs/FlyPy/lib/python3.7/site-packages/matplotlib/axis.py\u001b[0m in \u001b[0;36mupdate_units\u001b[0;34m(self, data)\u001b[0m\n\u001b[1;32m   1465\u001b[0m         \"\"\"\n\u001b[1;32m   1466\u001b[0m \u001b[0;34m\u001b[0m\u001b[0m\n\u001b[0;32m-> 1467\u001b[0;31m         \u001b[0mconverter\u001b[0m \u001b[0;34m=\u001b[0m \u001b[0mmunits\u001b[0m\u001b[0;34m.\u001b[0m\u001b[0mregistry\u001b[0m\u001b[0;34m.\u001b[0m\u001b[0mget_converter\u001b[0m\u001b[0;34m(\u001b[0m\u001b[0mdata\u001b[0m\u001b[0;34m)\u001b[0m\u001b[0;34m\u001b[0m\u001b[0;34m\u001b[0m\u001b[0m\n\u001b[0m\u001b[1;32m   1468\u001b[0m         \u001b[0;32mif\u001b[0m \u001b[0mconverter\u001b[0m \u001b[0;32mis\u001b[0m \u001b[0;32mNone\u001b[0m\u001b[0;34m:\u001b[0m\u001b[0;34m\u001b[0m\u001b[0;34m\u001b[0m\u001b[0m\n\u001b[1;32m   1469\u001b[0m             \u001b[0;32mreturn\u001b[0m \u001b[0;32mFalse\u001b[0m\u001b[0;34m\u001b[0m\u001b[0;34m\u001b[0m\u001b[0m\n",
      "\u001b[0;32m~/.virtualenvs/FlyPy/lib/python3.7/site-packages/matplotlib/units.py\u001b[0m in \u001b[0;36mget_converter\u001b[0;34m(self, x)\u001b[0m\n\u001b[1;32m    179\u001b[0m                 if (not isinstance(next_item, np.ndarray) or\n\u001b[1;32m    180\u001b[0m                         next_item.shape != x.shape):\n\u001b[0;32m--> 181\u001b[0;31m                     \u001b[0mconverter\u001b[0m \u001b[0;34m=\u001b[0m \u001b[0mself\u001b[0m\u001b[0;34m.\u001b[0m\u001b[0mget_converter\u001b[0m\u001b[0;34m(\u001b[0m\u001b[0mnext_item\u001b[0m\u001b[0;34m)\u001b[0m\u001b[0;34m\u001b[0m\u001b[0;34m\u001b[0m\u001b[0m\n\u001b[0m\u001b[1;32m    182\u001b[0m                 \u001b[0;32mreturn\u001b[0m \u001b[0mconverter\u001b[0m\u001b[0;34m\u001b[0m\u001b[0;34m\u001b[0m\u001b[0m\n\u001b[1;32m    183\u001b[0m \u001b[0;34m\u001b[0m\u001b[0m\n",
      "\u001b[0;32m~/.virtualenvs/FlyPy/lib/python3.7/site-packages/matplotlib/units.py\u001b[0m in \u001b[0;36mget_converter\u001b[0;34m(self, x)\u001b[0m\n\u001b[1;32m    185\u001b[0m         \u001b[0;32mif\u001b[0m \u001b[0mconverter\u001b[0m \u001b[0;32mis\u001b[0m \u001b[0;32mNone\u001b[0m\u001b[0;34m:\u001b[0m\u001b[0;34m\u001b[0m\u001b[0;34m\u001b[0m\u001b[0m\n\u001b[1;32m    186\u001b[0m             \u001b[0;32mtry\u001b[0m\u001b[0;34m:\u001b[0m\u001b[0;34m\u001b[0m\u001b[0;34m\u001b[0m\u001b[0m\n\u001b[0;32m--> 187\u001b[0;31m                 \u001b[0mthisx\u001b[0m \u001b[0;34m=\u001b[0m \u001b[0msafe_first_element\u001b[0m\u001b[0;34m(\u001b[0m\u001b[0mx\u001b[0m\u001b[0;34m)\u001b[0m\u001b[0;34m\u001b[0m\u001b[0;34m\u001b[0m\u001b[0m\n\u001b[0m\u001b[1;32m    188\u001b[0m             \u001b[0;32mexcept\u001b[0m \u001b[0;34m(\u001b[0m\u001b[0mTypeError\u001b[0m\u001b[0;34m,\u001b[0m \u001b[0mStopIteration\u001b[0m\u001b[0;34m)\u001b[0m\u001b[0;34m:\u001b[0m\u001b[0;34m\u001b[0m\u001b[0;34m\u001b[0m\u001b[0m\n\u001b[1;32m    189\u001b[0m                 \u001b[0;32mpass\u001b[0m\u001b[0;34m\u001b[0m\u001b[0;34m\u001b[0m\u001b[0m\n",
      "\u001b[0;32m~/.virtualenvs/FlyPy/lib/python3.7/site-packages/matplotlib/cbook/__init__.py\u001b[0m in \u001b[0;36msafe_first_element\u001b[0;34m(obj)\u001b[0m\n\u001b[1;32m   1633\u001b[0m         \u001b[0;32mexcept\u001b[0m \u001b[0mTypeError\u001b[0m\u001b[0;34m:\u001b[0m\u001b[0;34m\u001b[0m\u001b[0;34m\u001b[0m\u001b[0m\n\u001b[1;32m   1634\u001b[0m             \u001b[0;32mpass\u001b[0m\u001b[0;34m\u001b[0m\u001b[0;34m\u001b[0m\u001b[0m\n\u001b[0;32m-> 1635\u001b[0;31m         raise RuntimeError(\"matplotlib does not support generators \"\n\u001b[0m\u001b[1;32m   1636\u001b[0m                            \"as input\")\n\u001b[1;32m   1637\u001b[0m     \u001b[0;32mreturn\u001b[0m \u001b[0mnext\u001b[0m\u001b[0;34m(\u001b[0m\u001b[0miter\u001b[0m\u001b[0;34m(\u001b[0m\u001b[0mobj\u001b[0m\u001b[0;34m)\u001b[0m\u001b[0;34m)\u001b[0m\u001b[0;34m\u001b[0m\u001b[0;34m\u001b[0m\u001b[0m\n",
      "\u001b[0;31mRuntimeError\u001b[0m: matplotlib does not support generators as input"
     ]
    },
    {
     "data": {
      "image/png": "[encoded data removed]",
      "text/plain": [
       "<Figure size 432x288 with 1 Axes>"
      ]
     },
     "metadata": {
      "needs_background": "light"
     },
     "output_type": "display_data"
    }
   ],
   "source": [
    "plt.plot(amount, color = 'b')"
   ]
  },
  {
   "cell_type": "code",
   "execution_count": null,
   "metadata": {},
   "outputs": [],
   "source": []
  }
 ],
 "metadata": {
  "kernelspec": {
   "display_name": "Python 3",
   "language": "python",
   "name": "python3"
  },
  "language_info": {
   "codemirror_mode": {
    "name": "ipython",
    "version": 3
   },
   "file_extension": ".py",
   "mimetype": "text/x-python",
   "name": "python",
   "nbconvert_exporter": "python",
   "pygments_lexer": "ipython3",
   "version": "3.7.1"
  }
 },
 "nbformat": 4,
 "nbformat_minor": 2
}
